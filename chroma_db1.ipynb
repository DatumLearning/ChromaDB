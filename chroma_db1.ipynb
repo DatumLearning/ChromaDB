{
  "nbformat": 4,
  "nbformat_minor": 0,
  "metadata": {
    "colab": {
      "provenance": [],
      "authorship_tag": "ABX9TyMY3J3Q/mAq4HlDfPlarcgO",
      "include_colab_link": true
    },
    "kernelspec": {
      "name": "python3",
      "display_name": "Python 3"
    },
    "language_info": {
      "name": "python"
    }
  },
  "cells": [
    {
      "cell_type": "markdown",
      "metadata": {
        "id": "view-in-github",
        "colab_type": "text"
      },
      "source": [
        "<a href=\"https://colab.research.google.com/github/DatumLearning/ChromaDB/blob/main/chroma_db1.ipynb\" target=\"_parent\"><img src=\"https://colab.research.google.com/assets/colab-badge.svg\" alt=\"Open In Colab\"/></a>"
      ]
    },
    {
      "cell_type": "code",
      "execution_count": null,
      "metadata": {
        "id": "uvzqD1zhuYMM",
        "collapsed": true,
        "colab": {
          "base_uri": "https://localhost:8080/"
        },
        "outputId": "9194e8d4-37a4-4a63-f5be-52298e228530"
      },
      "outputs": [
        {
          "output_type": "stream",
          "name": "stdout",
          "text": [
            "\u001b[?25l     \u001b[90m━━━━━━━━━━━━━━━━━━━━━━━━━━━━━━━━━━━━━━━━\u001b[0m \u001b[32m0.0/67.3 kB\u001b[0m \u001b[31m?\u001b[0m eta \u001b[36m-:--:--\u001b[0m\r\u001b[2K     \u001b[90m━━━━━━━━━━━━━━━━━━━━━━━━━━━━━━━━━━━━━━━━\u001b[0m \u001b[32m67.3/67.3 kB\u001b[0m \u001b[31m5.4 MB/s\u001b[0m eta \u001b[36m0:00:00\u001b[0m\n",
            "\u001b[?25h  Installing build dependencies ... \u001b[?25l\u001b[?25hdone\n",
            "  Getting requirements to build wheel ... \u001b[?25l\u001b[?25hdone\n",
            "  Preparing metadata (pyproject.toml) ... \u001b[?25l\u001b[?25hdone\n",
            "\u001b[2K   \u001b[90m━━━━━━━━━━━━━━━━━━━━━━━━━━━━━━━━━━━━━━━━\u001b[0m \u001b[32m611.1/611.1 kB\u001b[0m \u001b[31m28.4 MB/s\u001b[0m eta \u001b[36m0:00:00\u001b[0m\n",
            "\u001b[2K   \u001b[90m━━━━━━━━━━━━━━━━━━━━━━━━━━━━━━━━━━━━━━━━\u001b[0m \u001b[32m2.4/2.4 MB\u001b[0m \u001b[31m76.5 MB/s\u001b[0m eta \u001b[36m0:00:00\u001b[0m\n",
            "\u001b[2K   \u001b[90m━━━━━━━━━━━━━━━━━━━━━━━━━━━━━━━━━━━━━━━━\u001b[0m \u001b[32m284.2/284.2 kB\u001b[0m \u001b[31m20.5 MB/s\u001b[0m eta \u001b[36m0:00:00\u001b[0m\n",
            "\u001b[2K   \u001b[90m━━━━━━━━━━━━━━━━━━━━━━━━━━━━━━━━━━━━━━━━\u001b[0m \u001b[32m95.2/95.2 kB\u001b[0m \u001b[31m8.7 MB/s\u001b[0m eta \u001b[36m0:00:00\u001b[0m\n",
            "\u001b[2K   \u001b[90m━━━━━━━━━━━━━━━━━━━━━━━━━━━━━━━━━━━━━━━━\u001b[0m \u001b[32m2.0/2.0 MB\u001b[0m \u001b[31m72.0 MB/s\u001b[0m eta \u001b[36m0:00:00\u001b[0m\n",
            "\u001b[2K   \u001b[90m━━━━━━━━━━━━━━━━━━━━━━━━━━━━━━━━━━━━━━━━\u001b[0m \u001b[32m101.6/101.6 kB\u001b[0m \u001b[31m9.0 MB/s\u001b[0m eta \u001b[36m0:00:00\u001b[0m\n",
            "\u001b[2K   \u001b[90m━━━━━━━━━━━━━━━━━━━━━━━━━━━━━━━━━━━━━━━━\u001b[0m \u001b[32m16.0/16.0 MB\u001b[0m \u001b[31m92.9 MB/s\u001b[0m eta \u001b[36m0:00:00\u001b[0m\n",
            "\u001b[2K   \u001b[90m━━━━━━━━━━━━━━━━━━━━━━━━━━━━━━━━━━━━━━━━\u001b[0m \u001b[32m55.9/55.9 kB\u001b[0m \u001b[31m4.9 MB/s\u001b[0m eta \u001b[36m0:00:00\u001b[0m\n",
            "\u001b[2K   \u001b[90m━━━━━━━━━━━━━━━━━━━━━━━━━━━━━━━━━━━━━━━━\u001b[0m \u001b[32m85.0/85.0 kB\u001b[0m \u001b[31m7.3 MB/s\u001b[0m eta \u001b[36m0:00:00\u001b[0m\n",
            "\u001b[2K   \u001b[90m━━━━━━━━━━━━━━━━━━━━━━━━━━━━━━━━━━━━━━━━\u001b[0m \u001b[32m62.3/62.3 kB\u001b[0m \u001b[31m5.4 MB/s\u001b[0m eta \u001b[36m0:00:00\u001b[0m\n",
            "\u001b[2K   \u001b[90m━━━━━━━━━━━━━━━━━━━━━━━━━━━━━━━━━━━━━━━━\u001b[0m \u001b[32m459.8/459.8 kB\u001b[0m \u001b[31m33.8 MB/s\u001b[0m eta \u001b[36m0:00:00\u001b[0m\n",
            "\u001b[2K   \u001b[90m━━━━━━━━━━━━━━━━━━━━━━━━━━━━━━━━━━━━━━━━\u001b[0m \u001b[32m72.0/72.0 kB\u001b[0m \u001b[31m6.0 MB/s\u001b[0m eta \u001b[36m0:00:00\u001b[0m\n",
            "\u001b[2K   \u001b[90m━━━━━━━━━━━━━━━━━━━━━━━━━━━━━━━━━━━━━━━━\u001b[0m \u001b[32m4.0/4.0 MB\u001b[0m \u001b[31m91.5 MB/s\u001b[0m eta \u001b[36m0:00:00\u001b[0m\n",
            "\u001b[2K   \u001b[90m━━━━━━━━━━━━━━━━━━━━━━━━━━━━━━━━━━━━━━━━\u001b[0m \u001b[32m452.6/452.6 kB\u001b[0m \u001b[31m29.7 MB/s\u001b[0m eta \u001b[36m0:00:00\u001b[0m\n",
            "\u001b[2K   \u001b[90m━━━━━━━━━━━━━━━━━━━━━━━━━━━━━━━━━━━━━━━━\u001b[0m \u001b[32m46.0/46.0 kB\u001b[0m \u001b[31m3.7 MB/s\u001b[0m eta \u001b[36m0:00:00\u001b[0m\n",
            "\u001b[2K   \u001b[90m━━━━━━━━━━━━━━━━━━━━━━━━━━━━━━━━━━━━━━━━\u001b[0m \u001b[32m86.8/86.8 kB\u001b[0m \u001b[31m7.6 MB/s\u001b[0m eta \u001b[36m0:00:00\u001b[0m\n",
            "\u001b[?25h  Building wheel for pypika (pyproject.toml) ... \u001b[?25l\u001b[?25hdone\n"
          ]
        }
      ],
      "source": [
        "!pip install chromadb -q"
      ]
    },
    {
      "cell_type": "code",
      "source": [
        "import chromadb\n",
        "from datetime import datetime\n",
        "chroma_client = chromadb.Client()"
      ],
      "metadata": {
        "id": "xCkpQBxDvIc4"
      },
      "execution_count": null,
      "outputs": []
    },
    {
      "cell_type": "code",
      "source": [
        "#Create collection\n",
        "collection = chroma_client.create_collection(name = \"my_collection\" ,\n",
        "                                             metadata = {\n",
        "                                                 \"description\" : \"my first chroma collection\" ,\n",
        "                                                 \"created\" : str(datetime.now())\n",
        "                                             })"
      ],
      "metadata": {
        "id": "ld1sa5kHvQVo"
      },
      "execution_count": null,
      "outputs": []
    },
    {
      "cell_type": "code",
      "source": [
        "#Add documents\n",
        "collection.add(\n",
        "    documents = [\n",
        "        \"Messi and Ronaldo are two of the greatest football players ever.\" ,\n",
        "        \"Scotland is famous for its beautiful landscapes.\"\n",
        "    ] ,\n",
        "    metadatas = [{\"topic\" : \"sports\"} , {\"topic\" : \"travel\"}] ,\n",
        "    ids = [\"id1\" , \"id2\"]\n",
        ")"
      ],
      "metadata": {
        "id": "QQHaTKs_v3C-",
        "colab": {
          "base_uri": "https://localhost:8080/"
        },
        "outputId": "48327d29-13e6-4e4d-993d-84968d600689"
      },
      "execution_count": null,
      "outputs": [
        {
          "output_type": "stream",
          "name": "stderr",
          "text": [
            "/root/.cache/chroma/onnx_models/all-MiniLM-L6-v2/onnx.tar.gz: 100%|██████████| 79.3M/79.3M [00:03<00:00, 24.6MiB/s]\n"
          ]
        }
      ]
    },
    {
      "cell_type": "code",
      "source": [
        "collection.get()"
      ],
      "metadata": {
        "colab": {
          "base_uri": "https://localhost:8080/"
        },
        "id": "QqGlQWkX7gpc",
        "outputId": "3a8ccf12-49ae-4bf5-9861-71f5bb588183"
      },
      "execution_count": null,
      "outputs": [
        {
          "output_type": "execute_result",
          "data": {
            "text/plain": [
              "{'ids': ['id1', 'id2'],\n",
              " 'embeddings': None,\n",
              " 'documents': ['Messi and Ronaldo are two of the greatest football players ever.',\n",
              "  'Scotland is famous for its beautiful landscapes.'],\n",
              " 'uris': None,\n",
              " 'data': None,\n",
              " 'metadatas': [{'topic': 'sports'}, {'topic': 'travel'}],\n",
              " 'included': [<IncludeEnum.documents: 'documents'>,\n",
              "  <IncludeEnum.metadatas: 'metadatas'>]}"
            ]
          },
          "metadata": {},
          "execution_count": 5
        }
      ]
    },
    {
      "cell_type": "code",
      "source": [
        "#Query the collection\n",
        "results = collection.query(\n",
        "    query_texts = [\"UK is comprised of 4 different countries\" ,\n",
        "                   \"Football is the most famous game ever\"] ,\n",
        "    n_results = 2\n",
        ")\n",
        "results"
      ],
      "metadata": {
        "colab": {
          "base_uri": "https://localhost:8080/"
        },
        "id": "F-6P8fsmx41O",
        "outputId": "2fd64a1d-6df6-40ab-a436-66e23f52a7c6"
      },
      "execution_count": null,
      "outputs": [
        {
          "output_type": "execute_result",
          "data": {
            "text/plain": [
              "{'ids': [['id2', 'id1'], ['id1', 'id2']],\n",
              " 'embeddings': None,\n",
              " 'documents': [['Scotland is famous for its beautiful landscapes.',\n",
              "   'Messi and Ronaldo are two of the greatest football players ever.'],\n",
              "  ['Messi and Ronaldo are two of the greatest football players ever.',\n",
              "   'Scotland is famous for its beautiful landscapes.']],\n",
              " 'uris': None,\n",
              " 'data': None,\n",
              " 'metadatas': [[{'topic': 'travel'}, {'topic': 'sports'}],\n",
              "  [{'topic': 'sports'}, {'topic': 'travel'}]],\n",
              " 'distances': [[1.51585054397583, 1.8981074094772339],\n",
              "  [1.0879411697387695, 1.3627064228057861]],\n",
              " 'included': [<IncludeEnum.distances: 'distances'>,\n",
              "  <IncludeEnum.documents: 'documents'>,\n",
              "  <IncludeEnum.metadatas: 'metadatas'>]}"
            ]
          },
          "metadata": {},
          "execution_count": 6
        }
      ]
    },
    {
      "cell_type": "code",
      "source": [
        "#add and upsert.\n",
        "#add gives warning\n",
        "collection.add(\n",
        "    documents = [\n",
        "        \"Messi and ergeldo are two of t4t4th4theatest football players ever.\" ,\n",
        "        \"Scotland is erg4th4th beautiful landscapes.\"\n",
        "    ] ,\n",
        "    metadatas = [{\"topic\" : \"sports\"} , {\"topic\" : \"travel\"}] ,\n",
        "    ids = [\"id1\" , \"id2\"]\n",
        ")"
      ],
      "metadata": {
        "colab": {
          "base_uri": "https://localhost:8080/"
        },
        "id": "2ofAweOW0Ivq",
        "outputId": "b7ac80d0-c64d-481b-d829-e72a9c6afeba"
      },
      "execution_count": null,
      "outputs": [
        {
          "output_type": "stream",
          "name": "stderr",
          "text": [
            "WARNING:chromadb.segment.impl.metadata.sqlite:Insert of existing embedding ID: id1\n",
            "WARNING:chromadb.segment.impl.metadata.sqlite:Insert of existing embedding ID: id2\n",
            "WARNING:chromadb.segment.impl.vector.local_hnsw:Add of existing embedding ID: id1\n",
            "WARNING:chromadb.segment.impl.vector.local_hnsw:Add of existing embedding ID: id2\n"
          ]
        }
      ]
    },
    {
      "cell_type": "code",
      "source": [
        "collection.get()"
      ],
      "metadata": {
        "colab": {
          "base_uri": "https://localhost:8080/"
        },
        "id": "OvdnOvlS0j3z",
        "outputId": "2232c17d-c6fb-49b4-e1e5-b365333143af"
      },
      "execution_count": null,
      "outputs": [
        {
          "output_type": "execute_result",
          "data": {
            "text/plain": [
              "{'ids': ['id1', 'id2'],\n",
              " 'embeddings': None,\n",
              " 'documents': ['Messi and Ronaldo are two of the greatest football players ever.',\n",
              "  'Scotland is famous for its beautiful landscapes.'],\n",
              " 'uris': None,\n",
              " 'data': None,\n",
              " 'metadatas': [{'topic': 'sports'}, {'topic': 'travel'}],\n",
              " 'included': [<IncludeEnum.documents: 'documents'>,\n",
              "  <IncludeEnum.metadatas: 'metadatas'>]}"
            ]
          },
          "metadata": {},
          "execution_count": 9
        }
      ]
    },
    {
      "cell_type": "code",
      "source": [
        "#add and upsert\n",
        "#upsert does not give any warning\n",
        "collection.upsert(\n",
        "    documents = [\n",
        "        \"Messi and Ronaldo are two of the greatest football players ever.\" ,\n",
        "        \"Scotland is famous for its beautiful landscapes.\"\n",
        "    ] ,\n",
        "    metadatas = [{\"topic\" : \"sports\"} , {\"topic\" : \"travel\"}] ,\n",
        "    ids = [\"id1\" , \"id2\"]\n",
        ")"
      ],
      "metadata": {
        "id": "1AreZsD00qTr"
      },
      "execution_count": null,
      "outputs": []
    },
    {
      "cell_type": "code",
      "source": [
        "collection.get()"
      ],
      "metadata": {
        "colab": {
          "base_uri": "https://localhost:8080/"
        },
        "id": "hr1Mxqkm06Vf",
        "outputId": "beea9189-f185-48ad-fff6-944ed59512a4"
      },
      "execution_count": null,
      "outputs": [
        {
          "output_type": "execute_result",
          "data": {
            "text/plain": [
              "{'ids': ['id1', 'id2'],\n",
              " 'embeddings': None,\n",
              " 'documents': ['Messi and Ronaldo are two of the greatest football players ever.',\n",
              "  'Scotland is famous for its beautiful landscapes.'],\n",
              " 'uris': None,\n",
              " 'data': None,\n",
              " 'metadatas': [{'topic': 'sports'}, {'topic': 'travel'}],\n",
              " 'included': [<IncludeEnum.documents: 'documents'>,\n",
              "  <IncludeEnum.metadatas: 'metadatas'>]}"
            ]
          },
          "metadata": {},
          "execution_count": 11
        }
      ]
    },
    {
      "cell_type": "code",
      "source": [
        "#add and upsert\n",
        "collection.upsert(\n",
        "    documents = [\n",
        "        \"Rome was not built in a day.\" ,\n",
        "        \"Light shows both wave and particle like properties.\"\n",
        "    ] ,\n",
        "    metadatas = [{\"topic\" : \"philosophy\"} , {\"topic\" : \"science\"}] ,\n",
        "    ids = [\"id3\" , \"id4\"]\n",
        ")"
      ],
      "metadata": {
        "id": "hAcxUCga2RaE"
      },
      "execution_count": null,
      "outputs": []
    },
    {
      "cell_type": "code",
      "source": [
        "collection.get()"
      ],
      "metadata": {
        "colab": {
          "base_uri": "https://localhost:8080/"
        },
        "id": "XRV4ukZ72erF",
        "outputId": "01cba629-b530-4310-b2ad-206dfffb7d2c"
      },
      "execution_count": null,
      "outputs": [
        {
          "output_type": "execute_result",
          "data": {
            "text/plain": [
              "{'ids': ['id1', 'id2', 'id3', 'id4'],\n",
              " 'embeddings': None,\n",
              " 'documents': ['Messi and Ronaldo are two of the greatest football players ever.',\n",
              "  'Scotland is famous for its beautiful landscapes.',\n",
              "  'Rome was not built in a day.',\n",
              "  'Light shows both wave and particle like properties.'],\n",
              " 'uris': None,\n",
              " 'data': None,\n",
              " 'metadatas': [{'topic': 'sports'},\n",
              "  {'topic': 'travel'},\n",
              "  {'topic': 'philosophy'},\n",
              "  {'topic': 'science'}],\n",
              " 'included': [<IncludeEnum.documents: 'documents'>,\n",
              "  <IncludeEnum.metadatas: 'metadatas'>]}"
            ]
          },
          "metadata": {},
          "execution_count": 13
        }
      ]
    },
    {
      "cell_type": "code",
      "source": [
        "collection2 = chroma_client.get_collection(name = \"my_collection\")"
      ],
      "metadata": {
        "id": "Ij54BQAW08Rf"
      },
      "execution_count": null,
      "outputs": []
    },
    {
      "cell_type": "code",
      "source": [
        "collection2.get()"
      ],
      "metadata": {
        "colab": {
          "base_uri": "https://localhost:8080/"
        },
        "id": "dzHe6MlH_ZKO",
        "outputId": "a97b3e10-7444-45cc-9ecd-57b8e4cd1ef3"
      },
      "execution_count": null,
      "outputs": [
        {
          "output_type": "execute_result",
          "data": {
            "text/plain": [
              "{'ids': ['id1', 'id2', 'id3', 'id4'],\n",
              " 'embeddings': None,\n",
              " 'documents': ['Messi and Ronaldo are two of the greatest football players ever.',\n",
              "  'Scotland is famous for its beautiful landscapes.',\n",
              "  'Rome was not built in a day.',\n",
              "  'Light shows both wave and particle like properties.'],\n",
              " 'uris': None,\n",
              " 'data': None,\n",
              " 'metadatas': [{'topic': 'sports'},\n",
              "  {'topic': 'travel'},\n",
              "  {'topic': 'philosophy'},\n",
              "  {'topic': 'science'}],\n",
              " 'included': [<IncludeEnum.documents: 'documents'>,\n",
              "  <IncludeEnum.metadatas: 'metadatas'>]}"
            ]
          },
          "metadata": {},
          "execution_count": 15
        }
      ]
    },
    {
      "cell_type": "code",
      "source": [
        "#peek() - returns the first 10 items of the collection\n",
        "collection.peek()"
      ],
      "metadata": {
        "colab": {
          "base_uri": "https://localhost:8080/"
        },
        "id": "5Q7lXygRAoS8",
        "outputId": "caae0706-2754-4e80-81eb-3186c0c5248c"
      },
      "execution_count": null,
      "outputs": [
        {
          "output_type": "execute_result",
          "data": {
            "text/plain": [
              "{'ids': ['id1', 'id2', 'id3', 'id4'],\n",
              " 'embeddings': array([[ 0.0321799 ,  0.04114305, -0.0284717 , ...,  0.01144967,\n",
              "          0.13239247, -0.04811918],\n",
              "        [ 0.08236652,  0.00541485,  0.03187267, ..., -0.03954488,\n",
              "          0.01860716, -0.07294834],\n",
              "        [-0.00276751,  0.09245855,  0.03864505, ..., -0.03413796,\n",
              "         -0.04270397,  0.04264213],\n",
              "        [-0.01313274, -0.0303313 ,  0.00555119, ..., -0.01103758,\n",
              "          0.03872042,  0.09321874]]),\n",
              " 'documents': ['Messi and Ronaldo are two of the greatest football players ever.',\n",
              "  'Scotland is famous for its beautiful landscapes.',\n",
              "  'Rome was not built in a day.',\n",
              "  'Light shows both wave and particle like properties.'],\n",
              " 'uris': None,\n",
              " 'data': None,\n",
              " 'metadatas': [{'topic': 'sports'},\n",
              "  {'topic': 'travel'},\n",
              "  {'topic': 'philosophy'},\n",
              "  {'topic': 'science'}],\n",
              " 'included': [<IncludeEnum.embeddings: 'embeddings'>,\n",
              "  <IncludeEnum.documents: 'documents'>,\n",
              "  <IncludeEnum.metadatas: 'metadatas'>]}"
            ]
          },
          "metadata": {},
          "execution_count": 16
        }
      ]
    },
    {
      "cell_type": "code",
      "source": [
        "#count - gives the count of the number of items in the collection\n",
        "collection.count()"
      ],
      "metadata": {
        "colab": {
          "base_uri": "https://localhost:8080/"
        },
        "id": "zLdZEXgQAxfh",
        "outputId": "607eeae2-aaee-403b-b174-cd7b5281dc87"
      },
      "execution_count": null,
      "outputs": [
        {
          "output_type": "execute_result",
          "data": {
            "text/plain": [
              "4"
            ]
          },
          "metadata": {},
          "execution_count": 17
        }
      ]
    },
    {
      "cell_type": "code",
      "source": [
        "#modify - to modify the name of the collection\n",
        "collection.modify(name = \"new_collection\")"
      ],
      "metadata": {
        "id": "b3_G7KviA4Gh"
      },
      "execution_count": null,
      "outputs": []
    },
    {
      "cell_type": "code",
      "source": [
        "collection.name"
      ],
      "metadata": {
        "colab": {
          "base_uri": "https://localhost:8080/",
          "height": 35
        },
        "id": "Tk2U6LN426Ju",
        "outputId": "87b592c8-298e-4f44-e8a9-611dc04bc414"
      },
      "execution_count": null,
      "outputs": [
        {
          "output_type": "execute_result",
          "data": {
            "text/plain": [
              "'new_collection'"
            ],
            "application/vnd.google.colaboratory.intrinsic+json": {
              "type": "string"
            }
          },
          "metadata": {},
          "execution_count": 19
        }
      ]
    },
    {
      "cell_type": "code",
      "source": [
        "#Update data\n",
        "collection.update(\n",
        "    ids = [\"id2\"],\n",
        "    metadatas = [{\"topic\" : \"food\"}] ,\n",
        "    documents = [\"Tacos are famous in Mexico.\"]\n",
        ")"
      ],
      "metadata": {
        "id": "-DW1AFRu212k"
      },
      "execution_count": null,
      "outputs": []
    },
    {
      "cell_type": "code",
      "source": [
        "collection.get()"
      ],
      "metadata": {
        "colab": {
          "base_uri": "https://localhost:8080/"
        },
        "id": "cgdMSrKUGErG",
        "outputId": "4ddf723b-4758-49ca-de9f-63f180a0bb36"
      },
      "execution_count": null,
      "outputs": [
        {
          "output_type": "execute_result",
          "data": {
            "text/plain": [
              "{'ids': ['id1', 'id2', 'id3', 'id4'],\n",
              " 'embeddings': None,\n",
              " 'documents': ['Messi and Ronaldo are two of the greatest football players ever.',\n",
              "  'Tacos are famous in Mexico.',\n",
              "  'Rome was not built in a day.',\n",
              "  'Light shows both wave and particle like properties.'],\n",
              " 'uris': None,\n",
              " 'data': None,\n",
              " 'metadatas': [{'topic': 'sports'},\n",
              "  {'topic': 'food'},\n",
              "  {'topic': 'philosophy'},\n",
              "  {'topic': 'science'}],\n",
              " 'included': [<IncludeEnum.documents: 'documents'>,\n",
              "  <IncludeEnum.metadatas: 'metadatas'>]}"
            ]
          },
          "metadata": {},
          "execution_count": 21
        }
      ]
    },
    {
      "cell_type": "code",
      "source": [
        "#Update data, but id is not\n",
        "collection.update(\n",
        "    ids = [\"id6\"],\n",
        "    metadatas = [{\"topic\" : \"food\"}] ,\n",
        "    documents = [\"Tacos are famous in Mexico.\"]\n",
        ")"
      ],
      "metadata": {
        "colab": {
          "base_uri": "https://localhost:8080/"
        },
        "id": "iIvmLXtpGGRi",
        "outputId": "f48876e8-1536-4739-90ee-4465f27e467e"
      },
      "execution_count": null,
      "outputs": [
        {
          "output_type": "stream",
          "name": "stderr",
          "text": [
            "WARNING:chromadb.segment.impl.metadata.sqlite:Update of nonexisting embedding ID: id6\n",
            "WARNING:chromadb.segment.impl.vector.local_hnsw:Update of nonexisting embedding ID: id6\n"
          ]
        }
      ]
    },
    {
      "cell_type": "code",
      "source": [
        "#Update data with upsert, but id is not\n",
        "collection.upsert(\n",
        "    ids = [\"id5\"],\n",
        "    metadatas = [{\"topic\" : \"clothing\"}] ,\n",
        "    documents = [\"Sarees and Kurtas are worn in India.\"]\n",
        ")"
      ],
      "metadata": {
        "id": "Q4zhH0PGGSS7"
      },
      "execution_count": null,
      "outputs": []
    },
    {
      "cell_type": "code",
      "source": [
        "collection.get()"
      ],
      "metadata": {
        "colab": {
          "base_uri": "https://localhost:8080/"
        },
        "id": "bE_l9EWjGxGp",
        "outputId": "71095d5c-ed88-4166-c018-439ec0ac772a"
      },
      "execution_count": null,
      "outputs": [
        {
          "output_type": "execute_result",
          "data": {
            "text/plain": [
              "{'ids': ['id1', 'id2', 'id3', 'id4', 'id5'],\n",
              " 'embeddings': None,\n",
              " 'documents': ['Messi and Ronaldo are two of the greatest football players ever.',\n",
              "  'Tacos are famous in Mexico.',\n",
              "  'Rome was not built in a day.',\n",
              "  'Light shows both wave and particle like properties.',\n",
              "  'Sarees and Kurtas are worn in India.'],\n",
              " 'uris': None,\n",
              " 'data': None,\n",
              " 'metadatas': [{'topic': 'sports'},\n",
              "  {'topic': 'food'},\n",
              "  {'topic': 'philosophy'},\n",
              "  {'topic': 'science'},\n",
              "  {'topic': 'clothing'}],\n",
              " 'included': [<IncludeEnum.documents: 'documents'>,\n",
              "  <IncludeEnum.metadatas: 'metadatas'>]}"
            ]
          },
          "metadata": {},
          "execution_count": 24
        }
      ]
    },
    {
      "cell_type": "code",
      "source": [
        "collection.delete(\n",
        "    ids = [\"id4\" , \"id5\"]\n",
        ")"
      ],
      "metadata": {
        "id": "XuI4dre6G0Qe"
      },
      "execution_count": null,
      "outputs": []
    },
    {
      "cell_type": "code",
      "source": [
        "collection.get()"
      ],
      "metadata": {
        "id": "V8ax1QprIeK2",
        "outputId": "04c4e739-28df-43cc-840f-8c78ac887af3",
        "colab": {
          "base_uri": "https://localhost:8080/"
        }
      },
      "execution_count": null,
      "outputs": [
        {
          "output_type": "execute_result",
          "data": {
            "text/plain": [
              "{'ids': ['id1', 'id2', 'id3'],\n",
              " 'embeddings': None,\n",
              " 'documents': ['Messi and Ronaldo are two of the greatest football players ever.',\n",
              "  'Tacos are famous in Mexico.',\n",
              "  'Rome was not built in a day.'],\n",
              " 'uris': None,\n",
              " 'data': None,\n",
              " 'metadatas': [{'topic': 'sports'},\n",
              "  {'topic': 'food'},\n",
              "  {'topic': 'philosophy'}],\n",
              " 'included': [<IncludeEnum.documents: 'documents'>,\n",
              "  <IncludeEnum.metadatas: 'metadatas'>]}"
            ]
          },
          "metadata": {},
          "execution_count": 26
        }
      ]
    },
    {
      "cell_type": "code",
      "source": [],
      "metadata": {
        "id": "zHDHDLgZIfTX"
      },
      "execution_count": null,
      "outputs": []
    }
  ]
}