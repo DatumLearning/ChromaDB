{
  "nbformat": 4,
  "nbformat_minor": 0,
  "metadata": {
    "colab": {
      "provenance": [],
      "authorship_tag": "ABX9TyN2DC55kYZPevyx8cjAU0+p",
      "include_colab_link": true
    },
    "kernelspec": {
      "name": "python3",
      "display_name": "Python 3"
    },
    "language_info": {
      "name": "python"
    }
  },
  "cells": [
    {
      "cell_type": "markdown",
      "metadata": {
        "id": "view-in-github",
        "colab_type": "text"
      },
      "source": [
        "<a href=\"https://colab.research.google.com/github/DatumLearning/ChromaDB/blob/main/chroma_db2.ipynb\" target=\"_parent\"><img src=\"https://colab.research.google.com/assets/colab-badge.svg\" alt=\"Open In Colab\"/></a>"
      ]
    },
    {
      "cell_type": "code",
      "execution_count": 1,
      "metadata": {
        "id": "6J2bS_ZQFDV5",
        "colab": {
          "base_uri": "https://localhost:8080/"
        },
        "collapsed": true,
        "outputId": "48eb8357-b1c0-4591-de0c-bca625e20bf5"
      },
      "outputs": [
        {
          "output_type": "stream",
          "name": "stdout",
          "text": [
            "\u001b[?25l     \u001b[90m━━━━━━━━━━━━━━━━━━━━━━━━━━━━━━━━━━━━━━━━\u001b[0m \u001b[32m0.0/67.3 kB\u001b[0m \u001b[31m?\u001b[0m eta \u001b[36m-:--:--\u001b[0m\r\u001b[2K     \u001b[90m━━━━━━━━━━━━━━━━━━━━━━━━━━━━━━━━━━━━━━━━\u001b[0m \u001b[32m67.3/67.3 kB\u001b[0m \u001b[31m2.9 MB/s\u001b[0m eta \u001b[36m0:00:00\u001b[0m\n",
            "\u001b[?25h  Installing build dependencies ... \u001b[?25l\u001b[?25hdone\n",
            "  Getting requirements to build wheel ... \u001b[?25l\u001b[?25hdone\n",
            "  Preparing metadata (pyproject.toml) ... \u001b[?25l\u001b[?25hdone\n",
            "\u001b[2K   \u001b[90m━━━━━━━━━━━━━━━━━━━━━━━━━━━━━━━━━━━━━━━━\u001b[0m \u001b[32m611.1/611.1 kB\u001b[0m \u001b[31m12.9 MB/s\u001b[0m eta \u001b[36m0:00:00\u001b[0m\n",
            "\u001b[2K   \u001b[90m━━━━━━━━━━━━━━━━━━━━━━━━━━━━━━━━━━━━━━━━\u001b[0m \u001b[32m2.4/2.4 MB\u001b[0m \u001b[31m50.7 MB/s\u001b[0m eta \u001b[36m0:00:00\u001b[0m\n",
            "\u001b[2K   \u001b[90m━━━━━━━━━━━━━━━━━━━━━━━━━━━━━━━━━━━━━━━━\u001b[0m \u001b[32m284.2/284.2 kB\u001b[0m \u001b[31m14.8 MB/s\u001b[0m eta \u001b[36m0:00:00\u001b[0m\n",
            "\u001b[2K   \u001b[90m━━━━━━━━━━━━━━━━━━━━━━━━━━━━━━━━━━━━━━━━\u001b[0m \u001b[32m95.2/95.2 kB\u001b[0m \u001b[31m5.6 MB/s\u001b[0m eta \u001b[36m0:00:00\u001b[0m\n",
            "\u001b[2K   \u001b[90m━━━━━━━━━━━━━━━━━━━━━━━━━━━━━━━━━━━━━━━━\u001b[0m \u001b[32m2.0/2.0 MB\u001b[0m \u001b[31m50.3 MB/s\u001b[0m eta \u001b[36m0:00:00\u001b[0m\n",
            "\u001b[2K   \u001b[90m━━━━━━━━━━━━━━━━━━━━━━━━━━━━━━━━━━━━━━━━\u001b[0m \u001b[32m101.6/101.6 kB\u001b[0m \u001b[31m5.8 MB/s\u001b[0m eta \u001b[36m0:00:00\u001b[0m\n",
            "\u001b[2K   \u001b[90m━━━━━━━━━━━━━━━━━━━━━━━━━━━━━━━━━━━━━━━━\u001b[0m \u001b[32m16.0/16.0 MB\u001b[0m \u001b[31m56.9 MB/s\u001b[0m eta \u001b[36m0:00:00\u001b[0m\n",
            "\u001b[2K   \u001b[90m━━━━━━━━━━━━━━━━━━━━━━━━━━━━━━━━━━━━━━━━\u001b[0m \u001b[32m55.9/55.9 kB\u001b[0m \u001b[31m3.1 MB/s\u001b[0m eta \u001b[36m0:00:00\u001b[0m\n",
            "\u001b[2K   \u001b[90m━━━━━━━━━━━━━━━━━━━━━━━━━━━━━━━━━━━━━━━━\u001b[0m \u001b[32m85.0/85.0 kB\u001b[0m \u001b[31m5.0 MB/s\u001b[0m eta \u001b[36m0:00:00\u001b[0m\n",
            "\u001b[2K   \u001b[90m━━━━━━━━━━━━━━━━━━━━━━━━━━━━━━━━━━━━━━━━\u001b[0m \u001b[32m62.3/62.3 kB\u001b[0m \u001b[31m3.8 MB/s\u001b[0m eta \u001b[36m0:00:00\u001b[0m\n",
            "\u001b[2K   \u001b[90m━━━━━━━━━━━━━━━━━━━━━━━━━━━━━━━━━━━━━━━━\u001b[0m \u001b[32m459.8/459.8 kB\u001b[0m \u001b[31m24.3 MB/s\u001b[0m eta \u001b[36m0:00:00\u001b[0m\n",
            "\u001b[2K   \u001b[90m━━━━━━━━━━━━━━━━━━━━━━━━━━━━━━━━━━━━━━━━\u001b[0m \u001b[32m72.0/72.0 kB\u001b[0m \u001b[31m4.1 MB/s\u001b[0m eta \u001b[36m0:00:00\u001b[0m\n",
            "\u001b[2K   \u001b[90m━━━━━━━━━━━━━━━━━━━━━━━━━━━━━━━━━━━━━━━━\u001b[0m \u001b[32m4.0/4.0 MB\u001b[0m \u001b[31m67.2 MB/s\u001b[0m eta \u001b[36m0:00:00\u001b[0m\n",
            "\u001b[2K   \u001b[90m━━━━━━━━━━━━━━━━━━━━━━━━━━━━━━━━━━━━━━━━\u001b[0m \u001b[32m452.6/452.6 kB\u001b[0m \u001b[31m24.7 MB/s\u001b[0m eta \u001b[36m0:00:00\u001b[0m\n",
            "\u001b[2K   \u001b[90m━━━━━━━━━━━━━━━━━━━━━━━━━━━━━━━━━━━━━━━━\u001b[0m \u001b[32m46.0/46.0 kB\u001b[0m \u001b[31m2.6 MB/s\u001b[0m eta \u001b[36m0:00:00\u001b[0m\n",
            "\u001b[2K   \u001b[90m━━━━━━━━━━━━━━━━━━━━━━━━━━━━━━━━━━━━━━━━\u001b[0m \u001b[32m86.8/86.8 kB\u001b[0m \u001b[31m5.0 MB/s\u001b[0m eta \u001b[36m0:00:00\u001b[0m\n",
            "\u001b[?25h  Building wheel for pypika (pyproject.toml) ... \u001b[?25l\u001b[?25hdone\n"
          ]
        }
      ],
      "source": [
        "!pip install chromadb -q"
      ]
    },
    {
      "cell_type": "code",
      "source": [
        "import chromadb\n",
        "from datetime import datetime\n",
        "chroma_client = chromadb.Client()"
      ],
      "metadata": {
        "id": "LYSHhpcCF0t1"
      },
      "execution_count": 2,
      "outputs": []
    },
    {
      "cell_type": "code",
      "source": [
        "#Create collection\n",
        "collection = chroma_client.create_collection(name = \"my_collection\" ,\n",
        "                                             metadata = {\n",
        "                                                 \"description\" : \"my first chroma collection\" ,\n",
        "                                                 \"created\" : str(datetime.now())\n",
        "                                             })"
      ],
      "metadata": {
        "id": "gHTuhJf0F2jV"
      },
      "execution_count": 3,
      "outputs": []
    },
    {
      "cell_type": "code",
      "source": [
        "#Add Sport documents\n",
        "collection.add(\n",
        "    documents = [\n",
        "        \"Athletic performance can be influenced by factors such as training, nutrition, and genetics.\" ,\n",
        "        \"Competitive sports often involve the application of rules and strategies.\" ,\n",
        "        \"Technological advancements have impacted various aspects of sports, including training and officiating.\"\n",
        "    ] ,\n",
        "    metadatas = [{\"topic\" : \"sports\"} , {\"topic\" : \"sports\"} , {\"topic\" : \"sports\"}] ,\n",
        "    ids = [\"id1\" , \"id2\" , \"id3\"]\n",
        ")"
      ],
      "metadata": {
        "id": "5cTEJ0N3F7kt",
        "colab": {
          "base_uri": "https://localhost:8080/"
        },
        "outputId": "7e410ba8-1f3b-4b63-88d8-e2e326ae4b28"
      },
      "execution_count": 4,
      "outputs": [
        {
          "output_type": "stream",
          "name": "stderr",
          "text": [
            "/root/.cache/chroma/onnx_models/all-MiniLM-L6-v2/onnx.tar.gz: 100%|██████████| 79.3M/79.3M [00:01<00:00, 75.0MiB/s]\n"
          ]
        }
      ]
    },
    {
      "cell_type": "code",
      "source": [
        "#Add Geography documents\n",
        "collection.add(\n",
        "    documents = [\n",
        "        \"Earth's geological processes shape its landforms and influence natural phenomena.\" ,\n",
        "        \"Climate patterns and environmental changes have effects on ecosystems and human populations.\" ,\n",
        "        \"Water resources are distributed unevenly across the globe, impacting regional development.\"\n",
        "    ] ,\n",
        "    metadatas = [{\"topic\" : \"geography\"} , {\"topic\" : \"geography\"} , {\"topic\" : \"geography\"}] ,\n",
        "    ids = [\"id4\" , \"id5\" , \"id6\"]\n",
        ")"
      ],
      "metadata": {
        "id": "2z_yV18QGbgM"
      },
      "execution_count": 5,
      "outputs": []
    },
    {
      "cell_type": "code",
      "source": [
        "#Add Philisoplical documents\n",
        "collection.add(\n",
        "    documents = [\n",
        "        \"Philosophical inquiry explores fundamental questions about existence, knowledge, and values.\" ,\n",
        "        \"Different philosophical schools of thought offer varying perspectives on human nature and society.\" ,\n",
        "        \"Ethical frameworks provide systems for evaluating moral actions and decisions.\"\n",
        "    ] ,\n",
        "    metadatas = [{\"topic\" : \"philosophy\"} , {\"topic\" : \"philosophy\"} , {\"topic\" : \"philosophy\"}] ,\n",
        "    ids = [\"id7\" , \"id8\" , \"id9\"]\n",
        ")"
      ],
      "metadata": {
        "id": "jo0hIE09G19i"
      },
      "execution_count": 6,
      "outputs": []
    },
    {
      "cell_type": "code",
      "source": [
        "#Add Food related documents\n",
        "collection.add(\n",
        "    documents = [\n",
        "        \"Food preparation methods vary significantly across different cultures.\" ,\n",
        "        \"Food production and distribution are influenced by agricultural practices and economic factors.\" ,\n",
        "        \"Nutritional content of food plays a role in human health and well-being.\"\n",
        "    ] ,\n",
        "    metadatas = [{\"topic\" : \"food\"} , {\"topic\" : \"food\"} , {\"topic\" : \"food\"}] ,\n",
        "    ids = [\"id10\" , \"id11\" , \"id12\"]\n",
        ")"
      ],
      "metadata": {
        "id": "y0ljHueeHKcs"
      },
      "execution_count": 7,
      "outputs": []
    },
    {
      "cell_type": "code",
      "source": [
        "collection.get()"
      ],
      "metadata": {
        "colab": {
          "base_uri": "https://localhost:8080/"
        },
        "id": "xce1JOx2HcHo",
        "outputId": "f4efdbe7-161a-4b82-8252-b1aa454a1412"
      },
      "execution_count": 8,
      "outputs": [
        {
          "output_type": "execute_result",
          "data": {
            "text/plain": [
              "{'ids': ['id1',\n",
              "  'id2',\n",
              "  'id3',\n",
              "  'id4',\n",
              "  'id5',\n",
              "  'id6',\n",
              "  'id7',\n",
              "  'id8',\n",
              "  'id9',\n",
              "  'id10',\n",
              "  'id11',\n",
              "  'id12'],\n",
              " 'embeddings': None,\n",
              " 'documents': ['Athletic performance can be influenced by factors such as training, nutrition, and genetics.',\n",
              "  'Competitive sports often involve the application of rules and strategies.',\n",
              "  'Technological advancements have impacted various aspects of sports, including training and officiating.',\n",
              "  \"Earth's geological processes shape its landforms and influence natural phenomena.\",\n",
              "  'Climate patterns and environmental changes have effects on ecosystems and human populations.',\n",
              "  'Water resources are distributed unevenly across the globe, impacting regional development.',\n",
              "  'Philosophical inquiry explores fundamental questions about existence, knowledge, and values.',\n",
              "  'Different philosophical schools of thought offer varying perspectives on human nature and society.',\n",
              "  'Ethical frameworks provide systems for evaluating moral actions and decisions.',\n",
              "  'Food preparation methods vary significantly across different cultures.',\n",
              "  'Food production and distribution are influenced by agricultural practices and economic factors.',\n",
              "  'Nutritional content of food plays a role in human health and well-being.'],\n",
              " 'uris': None,\n",
              " 'data': None,\n",
              " 'metadatas': [{'topic': 'sports'},\n",
              "  {'topic': 'sports'},\n",
              "  {'topic': 'sports'},\n",
              "  {'topic': 'geography'},\n",
              "  {'topic': 'geography'},\n",
              "  {'topic': 'geography'},\n",
              "  {'topic': 'philosophy'},\n",
              "  {'topic': 'philosophy'},\n",
              "  {'topic': 'philosophy'},\n",
              "  {'topic': 'food'},\n",
              "  {'topic': 'food'},\n",
              "  {'topic': 'food'}],\n",
              " 'included': [<IncludeEnum.documents: 'documents'>,\n",
              "  <IncludeEnum.metadatas: 'metadatas'>]}"
            ]
          },
          "metadata": {},
          "execution_count": 8
        }
      ]
    },
    {
      "cell_type": "code",
      "source": [
        "query_text = \"Sustainable food production methods are increasingly considered in geographic regions vulnerable to climate change.\""
      ],
      "metadata": {
        "id": "SeadUTxrHfsq"
      },
      "execution_count": 9,
      "outputs": []
    },
    {
      "cell_type": "code",
      "source": [
        "results = collection.query(\n",
        "    query_texts = [query_text] ,\n",
        "    n_results = 5\n",
        ")"
      ],
      "metadata": {
        "id": "Rh0yrkKSH3aQ"
      },
      "execution_count": 10,
      "outputs": []
    },
    {
      "cell_type": "code",
      "source": [
        "results"
      ],
      "metadata": {
        "colab": {
          "base_uri": "https://localhost:8080/"
        },
        "id": "S8EVdEvhID-Z",
        "outputId": "640d877b-131a-4cfa-f9f6-99be70d66a0e"
      },
      "execution_count": 11,
      "outputs": [
        {
          "output_type": "execute_result",
          "data": {
            "text/plain": [
              "{'ids': [['id11', 'id5', 'id10', 'id6', 'id12']],\n",
              " 'embeddings': None,\n",
              " 'documents': [['Food production and distribution are influenced by agricultural practices and economic factors.',\n",
              "   'Climate patterns and environmental changes have effects on ecosystems and human populations.',\n",
              "   'Food preparation methods vary significantly across different cultures.',\n",
              "   'Water resources are distributed unevenly across the globe, impacting regional development.',\n",
              "   'Nutritional content of food plays a role in human health and well-being.']],\n",
              " 'uris': None,\n",
              " 'data': None,\n",
              " 'metadatas': [[{'topic': 'food'},\n",
              "   {'topic': 'geography'},\n",
              "   {'topic': 'food'},\n",
              "   {'topic': 'geography'},\n",
              "   {'topic': 'food'}]],\n",
              " 'distances': [[0.9066872000694275,\n",
              "   0.9751530289649963,\n",
              "   1.1028087139129639,\n",
              "   1.2780060768127441,\n",
              "   1.3716844320297241]],\n",
              " 'included': [<IncludeEnum.distances: 'distances'>,\n",
              "  <IncludeEnum.documents: 'documents'>,\n",
              "  <IncludeEnum.metadatas: 'metadatas'>]}"
            ]
          },
          "metadata": {},
          "execution_count": 11
        }
      ]
    },
    {
      "cell_type": "code",
      "source": [
        "#Choosing from the topic\n",
        "results = collection.query(\n",
        "    query_texts = [query_text] ,\n",
        "    where = {\"topic\" : {\"$eq\" : \"geography\"}} ,\n",
        "    n_results = 2\n",
        ")"
      ],
      "metadata": {
        "id": "7ckCjGkxIIAL"
      },
      "execution_count": 12,
      "outputs": []
    },
    {
      "cell_type": "code",
      "source": [
        "results"
      ],
      "metadata": {
        "colab": {
          "base_uri": "https://localhost:8080/"
        },
        "id": "Xt5ShwEPIppg",
        "outputId": "e4290a24-bae8-49d6-cc07-5fc82cf1026c"
      },
      "execution_count": 13,
      "outputs": [
        {
          "output_type": "execute_result",
          "data": {
            "text/plain": [
              "{'ids': [['id5', 'id6']],\n",
              " 'embeddings': None,\n",
              " 'documents': [['Climate patterns and environmental changes have effects on ecosystems and human populations.',\n",
              "   'Water resources are distributed unevenly across the globe, impacting regional development.']],\n",
              " 'uris': None,\n",
              " 'data': None,\n",
              " 'metadatas': [[{'topic': 'geography'}, {'topic': 'geography'}]],\n",
              " 'distances': [[0.9751530289649963, 1.2780060768127441]],\n",
              " 'included': [<IncludeEnum.distances: 'distances'>,\n",
              "  <IncludeEnum.documents: 'documents'>,\n",
              "  <IncludeEnum.metadatas: 'metadatas'>]}"
            ]
          },
          "metadata": {},
          "execution_count": 13
        }
      ]
    },
    {
      "cell_type": "code",
      "source": [
        "#Multiple topics\n",
        "results = collection.query(\n",
        "    query_texts = [query_text] ,\n",
        "    where = {\"topic\" : {\"$in\" : [\"philosophy\" , \"sports\"]}} ,\n",
        "    n_results = 2\n",
        ")"
      ],
      "metadata": {
        "id": "NhLTCiOlIsJl"
      },
      "execution_count": 14,
      "outputs": []
    },
    {
      "cell_type": "code",
      "source": [
        "results"
      ],
      "metadata": {
        "id": "7cXdWuneJTzX",
        "outputId": "3fd3c2fb-703a-4d81-8c2c-624821733c4c",
        "colab": {
          "base_uri": "https://localhost:8080/"
        }
      },
      "execution_count": 15,
      "outputs": [
        {
          "output_type": "execute_result",
          "data": {
            "text/plain": [
              "{'ids': [['id3', 'id1']],\n",
              " 'embeddings': None,\n",
              " 'documents': [['Technological advancements have impacted various aspects of sports, including training and officiating.',\n",
              "   'Athletic performance can be influenced by factors such as training, nutrition, and genetics.']],\n",
              " 'uris': None,\n",
              " 'data': None,\n",
              " 'metadatas': [[{'topic': 'sports'}, {'topic': 'sports'}]],\n",
              " 'distances': [[1.6787598133087158, 1.7634471654891968]],\n",
              " 'included': [<IncludeEnum.distances: 'distances'>,\n",
              "  <IncludeEnum.documents: 'documents'>,\n",
              "  <IncludeEnum.metadatas: 'metadatas'>]}"
            ]
          },
          "metadata": {},
          "execution_count": 15
        }
      ]
    },
    {
      "cell_type": "code",
      "source": [],
      "metadata": {
        "id": "qiSDLllFJUkD"
      },
      "execution_count": null,
      "outputs": []
    }
  ]
}